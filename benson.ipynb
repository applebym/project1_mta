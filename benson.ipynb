{
 "cells": [
  {
   "cell_type": "code",
   "execution_count": 1,
   "metadata": {
    "collapsed": false
   },
   "outputs": [],
   "source": [
    "import urllib\n",
    "import csv\n",
    "import os\n",
    "import datetime\n",
    "import dateutil.parser\n",
    "import copy\n",
    "from collections import defaultdict\n",
    "import pickle"
   ]
  },
  {
   "cell_type": "markdown",
   "metadata": {
    "collapsed": true
   },
   "source": [
    "# Challenge 1 #"
   ]
  },
  {
   "cell_type": "code",
   "execution_count": null,
   "metadata": {
    "collapsed": true
   },
   "outputs": [],
   "source": [
    "def read_files(file_list):\n",
    "    \"\"\"\n",
    "    Reads the .csv files in the given file list and imports the data into a \n",
    "    dictionary with the following structure:\n",
    "    key: (col1, col2, col3, col4)\n",
    "    value: [[col5, col6, col7, col8, col9, col10, col11],...]\n",
    "    \n",
    "    NOTE that the format of the .csv file changes and thus we have two\n",
    "    implementations of reading the file. \n",
    "    \n",
    "    @params file_list: list\n",
    "    Returns the dictionary.\n",
    "    \"\"\"\n",
    "    mta_dict = {}\n",
    "    \n",
    "    for f in file_list:\n",
    "        fn = open('data/' + f)\n",
    "        reader = csv.reader(fn)\n",
    "        reader.next()\n",
    "        for line in reader:\n",
    "            key = (line[0], line[1], line[2], line[3])\n",
    "            value = line [4:]            \n",
    "            if key in mta_dict:\n",
    "                mta_dict.get(key).append(value)\n",
    "            else:\n",
    "                mta_dict[key] = [value]\n",
    "        fn.close()\n",
    "        print 'Done: ' + f\n",
    "    return mta_dict"
   ]
  },
  {
   "cell_type": "code",
   "execution_count": 2,
   "metadata": {
    "collapsed": true
   },
   "outputs": [],
   "source": [
    "def read_files_modified(file_list):\n",
    "    \"\"\"\n",
    "    Reads the .csv files in the given file list and imports the data into a \n",
    "    dictionary with the following structure:\n",
    "    key: (col1, col2, col3, col4)\n",
    "    value: [[col5, col6, col7, col8, col9, col10, col11],...]\n",
    "    \n",
    "    NOTE that the format of the .csv file changes and thus we have two\n",
    "    implementations of reading the file. \n",
    "    \n",
    "    @params file_list: list\n",
    "    Returns the dictionary.\n",
    "    \"\"\"\n",
    "    mta_dict = {}\n",
    "    \n",
    "    for f in file_list:\n",
    "        fn = open('data/' + f)\n",
    "        reader = csv.reader(fn)\n",
    "        reader.next()\n",
    "        for line in reader:\n",
    "            key = (line[0], line[1], line[2], line[3]+' '+line[4])\n",
    "            value = line [5:]            \n",
    "            if key in mta_dict:\n",
    "                mta_dict.get(key).append(value)\n",
    "            else:\n",
    "                mta_dict[key] = [value]\n",
    "        fn.close()\n",
    "        print 'Done: ' + f\n",
    "    return mta_dict"
   ]
  },
  {
   "cell_type": "code",
   "execution_count": 3,
   "metadata": {
    "collapsed": false
   },
   "outputs": [
    {
     "name": "stdout",
     "output_type": "stream",
     "text": [
      "Done: turnstile_150502.csv\n",
      "Done: turnstile_150509.csv\n",
      "Done: turnstile_150516.csv\n",
      "Done: turnstile_150523.csv\n",
      "Done: turnstile_150530.csv\n"
     ]
    }
   ],
   "source": [
    "# File list includes data from 3/28/15 through 6/27/15\n",
    "file_list = [f for f in os.listdir('data/') if '.csv' in f]  # List of files in 'data' directory.\n",
    "# mta_dict = read_files(file_list)\n",
    "mta_dict_mod = read_files_modified(file_list)"
   ]
  },
  {
   "cell_type": "code",
   "execution_count": null,
   "metadata": {
    "collapsed": false
   },
   "outputs": [],
   "source": [
    "# Sanity check some values\n",
    "print 'Num of keys: ' + str(len(mta_dict.keys()))\n",
    "count1 = 0\n",
    "for key in mta_dict.keys():\n",
    "    count1 += len(mta_dict[key])\n",
    "print 'Num of values: ' + str(count1)\n",
    "\n",
    "print 'Sample key: value pair '\n",
    "n_items1 = {k: mta_dict_mod[k] for k in mta_dict_mod.keys()[:2]}\n",
    "print n_items1"
   ]
  },
  {
   "cell_type": "markdown",
   "metadata": {
    "collapsed": true
   },
   "source": [
    "# Challenge 2 #"
   ]
  },
  {
   "cell_type": "code",
   "execution_count": null,
   "metadata": {
    "collapsed": false,
    "scrolled": true
   },
   "outputs": [],
   "source": [
    "def make_time_series(full_dict):\n",
    "    \"\"\"\n",
    "    Keeping the keys the same, creates a new dictionary where the values are lists \n",
    "    of lists of dates and the number of entries on that day. The structure is:\n",
    "    key: (col1, col2, col3, col4)\n",
    "    value: [[datetime object, cumulative number of entries],...]\n",
    "    \n",
    "    @params full_dict: dictionary\n",
    "    Returns the new dictionary.\n",
    "    \"\"\"\n",
    "    time_dict = defaultdict(list)\n",
    "    count = 0\n",
    "    for key, value in full_dict.iteritems():\n",
    "        if count % 100 == 0: print count\n",
    "        for v in value:\n",
    "            date = v[2]\n",
    "            time = v[3]\n",
    "            datetime = dateutil.parser.parse(str(date) + ' ' + str(time))\n",
    "            try:\n",
    "                entry = int(v[5].lstrip('0'))\n",
    "            except ValueError:\n",
    "                entry = 0\n",
    "            updated_value = [datetime, entry]\n",
    "            time_dict[key].append(updated_value)\n",
    "        count += 1\n",
    "    return time_dict"
   ]
  },
  {
   "cell_type": "code",
   "execution_count": 4,
   "metadata": {
    "collapsed": true
   },
   "outputs": [],
   "source": [
    "def make_time_series_mod(full_dict):\n",
    "    \"\"\"\n",
    "    Keeping the keys the same, creates a new dictionary where the values are lists \n",
    "    of lists of dates and the number of entries on that day. The structure is:\n",
    "    key: (col1, col2, col3, col4)\n",
    "    value: [[datetime object, cumulative number of entries],...]\n",
    "    \n",
    "    @params full_dict: dictionary\n",
    "    Returns the new dictionary.\n",
    "    \"\"\"\n",
    "    time_dict = defaultdict(list)\n",
    "    count = 0\n",
    "    for key, value in full_dict.iteritems():\n",
    "        if count % 100 == 0: print count\n",
    "        for v in value:\n",
    "            date = v[1]\n",
    "            time = v[2]\n",
    "            datetime = dateutil.parser.parse(str(date) + ' ' + str(time))\n",
    "            try:\n",
    "                entry = int(v[4].lstrip('0'))\n",
    "            except ValueError:\n",
    "                entry = 0\n",
    "            try:\n",
    "                exit = int(v[5].lstrip('0'))\n",
    "            except:\n",
    "                exit = 0\n",
    "            updated_value = [datetime, entry, exit]\n",
    "            time_dict[key].append(updated_value)\n",
    "        count += 1\n",
    "    return time_dict"
   ]
  },
  {
   "cell_type": "code",
   "execution_count": 5,
   "metadata": {
    "collapsed": false,
    "scrolled": true
   },
   "outputs": [
    {
     "name": "stdout",
     "output_type": "stream",
     "text": [
      "0\n",
      "100\n",
      "200\n",
      "300\n",
      "400\n",
      "500\n",
      "600\n",
      "700\n",
      "800\n",
      "900\n",
      "1000\n",
      "1100\n",
      "1200\n",
      "1300\n",
      "1400\n",
      "1500\n",
      "1600\n",
      "1700\n",
      "1800\n",
      "1900\n",
      "2000\n",
      "2100\n",
      "2200\n",
      "2300\n",
      "2400\n",
      "2500\n",
      "2600\n",
      "2700\n",
      "2800\n",
      "2900\n",
      "3000\n",
      "3100\n",
      "3200\n",
      "3300\n",
      "3400\n",
      "3500\n",
      "3600\n",
      "3700\n",
      "3800\n",
      "3900\n",
      "4000\n",
      "4100\n",
      "4200\n",
      "4300\n",
      "4400\n",
      "4500\n"
     ]
    }
   ],
   "source": [
    "# time_dict = make_time_series(mta_dict)\n",
    "time_dict_mod = make_time_series_mod(mta_dict_mod)"
   ]
  },
  {
   "cell_type": "code",
   "execution_count": null,
   "metadata": {
    "collapsed": true
   },
   "outputs": [],
   "source": [
    "import pickle\n",
    "with open('mta_mod.pickle','wb') as handle:\n",
    "    pickle.dump(time_dict_mod, handle)"
   ]
  },
  {
   "cell_type": "code",
   "execution_count": null,
   "metadata": {
    "collapsed": false
   },
   "outputs": [],
   "source": [
    "import pickle\n",
    "with open('mta.pickle','wb') as handle:\n",
    "    pickle.dump(time_dict, handle)\n",
    "    "
   ]
  },
  {
   "cell_type": "code",
   "execution_count": null,
   "metadata": {
    "collapsed": false
   },
   "outputs": [],
   "source": [
    "# Sanity check some values\n",
    "print 'Num of keys: ' + str(len(time_dict_mod.keys()))\n",
    "count2 = 0\n",
    "for key in time_dict_mod.keys():\n",
    "    count2 += len(time_dict_mod[key])\n",
    "print 'Num of values: ' + str(count2)\n",
    "\n",
    "print 'Sample key: value pair '\n",
    "n_items2 = {k: time_dict_mod[k] for k in time_dict_mod.keys()[:1]}\n",
    "print n_items2"
   ]
  },
  {
   "cell_type": "markdown",
   "metadata": {
    "collapsed": true
   },
   "source": [
    "# Challenge 3 #"
   ]
  },
  {
   "cell_type": "code",
   "execution_count": null,
   "metadata": {
    "collapsed": false
   },
   "outputs": [],
   "source": [
    "with open('mta.pickle','rb') as handle:\n",
    "    time_dict = pickle.load(handle)"
   ]
  },
  {
   "cell_type": "code",
   "execution_count": 6,
   "metadata": {
    "collapsed": true
   },
   "outputs": [],
   "source": [
    "def make_diffs(time_dict):\n",
    "    diff_dict = defaultdict(list)\n",
    "    for key, rows in time_dict.items():\n",
    "        rows.sort(key = lambda x: x[0])\n",
    "        for i in range(len(rows)-1):\n",
    "            diff_dict[key].append([rows[i][0], rows[i+1][1]-rows[i][1], rows[i+1][2]-rows[i][2]])            \n",
    "    return diff_dict"
   ]
  },
  {
   "cell_type": "code",
   "execution_count": 7,
   "metadata": {
    "collapsed": false
   },
   "outputs": [],
   "source": [
    "# daily_dict = make_diffs(time_dict)\n",
    "daily_dict_mod = make_diffs(time_dict_mod)\n",
    "\n",
    "# with open('hourly_entry_mta.pickle','wb') as handle:\n",
    "#     pickle.dump(daily_dict, handle)"
   ]
  },
  {
   "cell_type": "code",
   "execution_count": null,
   "metadata": {
    "collapsed": false
   },
   "outputs": [],
   "source": [
    "def check_zero_entries(d):\n",
    "    zero_count = 0\n",
    "    tot_count = 0\n",
    "    for key in d.keys():\n",
    "        for day in d[key]:\n",
    "            if day[1] == 0: zero_count += 1\n",
    "            tot_count += 1\n",
    "    print 'There are %d data points with zero entries.' % zero_count\n",
    "    print 'There are %d data points total' % tot_count\n",
    "    print 'This represents %.9f of the data' % (zero_count//tot_count)\n",
    "\n",
    "check_zero_entries(daily_dict_mod)"
   ]
  },
  {
   "cell_type": "code",
   "execution_count": null,
   "metadata": {
    "collapsed": false
   },
   "outputs": [],
   "source": [
    "# Sanity check some values\n",
    "print 'Num of keys: ' + str(len(daily_dict_mod.keys()))\n",
    "count3 = 0\n",
    "for key in daily_dict_mod.keys():\n",
    "    count3 += len(daily_dict_mod[key])\n",
    "print 'Num of values: ' + str(count3)\n",
    "\n",
    "print 'Sample key: value pair '\n",
    "n_items3 = {k: daily_dict_mod[k] for k in daily_dict_mod.keys()[:1]}\n",
    "print n_items3"
   ]
  },
  {
   "cell_type": "code",
   "execution_count": null,
   "metadata": {
    "collapsed": true
   },
   "outputs": [],
   "source": [
    "# with open('hourly_entry_mta.pickle','rb') as handle:\n",
    "#     daily_dict_p = pickle.load(handle)"
   ]
  },
  {
   "cell_type": "code",
   "execution_count": 8,
   "metadata": {
    "collapsed": false
   },
   "outputs": [],
   "source": [
    "def make_daily(diff_dict):\n",
    "    daily = defaultdict(list)\n",
    "    for key, rows in diff_dict.items():\n",
    "#         i = 0\n",
    "#         while i < len(datetimes)-1: \n",
    "#             while datetimes[i][0].day == datetimes[i+1][0].day:\n",
    "#                 datetimes[i][1] += datetimes[i+1][1]\n",
    "#                 del datetimes[i+1]\n",
    "#                 if i == len(datetimes)-1: break\n",
    "#             i += 1\n",
    "    \n",
    "        by_day = {}\n",
    "        for time in rows:\n",
    "            day = time[0].date()\n",
    "            by_day[day] = by_day.get(day, 0) + time[1]\n",
    "        daily[key] = sorted(by_day.items())\n",
    "    \n",
    "    return daily"
   ]
  },
  {
   "cell_type": "code",
   "execution_count": 9,
   "metadata": {
    "collapsed": true
   },
   "outputs": [],
   "source": [
    "def make_daily_mod(diff_dict):\n",
    "    daily = defaultdict(list)\n",
    "    for key, rows in diff_dict.items():\n",
    "        by_day = {}\n",
    "        for time in rows:\n",
    "            day = time[0].date()\n",
    "            if time[1] < 0:\n",
    "                time[1] = 0\n",
    "            if time[2] < 0:\n",
    "                time[2] = 0\n",
    "            by_day[day] = map(lambda x,y: x+y, by_day.get(day, [0,0]),[time[1],time[2]]) \n",
    "        daily[key] = sorted(by_day.items())\n",
    "    \n",
    "    return daily"
   ]
  },
  {
   "cell_type": "code",
   "execution_count": 10,
   "metadata": {
    "collapsed": false
   },
   "outputs": [],
   "source": [
    "# d = make_daily(daily_dict)\n",
    "d_mod = make_daily_mod(daily_dict_mod)"
   ]
  },
  {
   "cell_type": "code",
   "execution_count": 11,
   "metadata": {
    "collapsed": false
   },
   "outputs": [
    {
     "name": "stdout",
     "output_type": "stream",
     "text": [
      "Num of keys: 4566\n",
      "Num of values: 159251\n",
      "Sample key: value pair \n",
      "{('N500', 'R020', '00-03-04', '47-50 ST-ROCK BDFM'): [(datetime.date(2015, 4, 25), [973, 542]), (datetime.date(2015, 4, 26), [778, 448]), (datetime.date(2015, 4, 27), [3214, 1960]), (datetime.date(2015, 4, 28), [3226, 2062]), (datetime.date(2015, 4, 29), [3394, 2081]), (datetime.date(2015, 4, 30), [3456, 1939]), (datetime.date(2015, 5, 1), [3491, 1812]), (datetime.date(2015, 5, 2), [1047, 575]), (datetime.date(2015, 5, 3), [838, 480]), (datetime.date(2015, 5, 4), [3241, 1904]), (datetime.date(2015, 5, 5), [3419, 2013]), (datetime.date(2015, 5, 6), [3319, 2021]), (datetime.date(2015, 5, 7), [3436, 1964]), (datetime.date(2015, 5, 8), [3180, 1858]), (datetime.date(2015, 5, 9), [1024, 556]), (datetime.date(2015, 5, 10), [865, 384]), (datetime.date(2015, 5, 11), [3110, 1889]), (datetime.date(2015, 5, 12), [3318, 2000]), (datetime.date(2015, 5, 13), [3404, 1972]), (datetime.date(2015, 5, 14), [3374, 2072]), (datetime.date(2015, 5, 15), [3375, 1817]), (datetime.date(2015, 5, 16), [963, 506]), (datetime.date(2015, 5, 17), [846, 429]), (datetime.date(2015, 5, 18), [2530, 2034]), (datetime.date(2015, 5, 19), [3401, 2107]), (datetime.date(2015, 5, 20), [3268, 1935]), (datetime.date(2015, 5, 21), [3392, 2011]), (datetime.date(2015, 5, 22), [2957, 1776]), (datetime.date(2015, 5, 23), [887, 343]), (datetime.date(2015, 5, 24), [695, 288]), (datetime.date(2015, 5, 25), [610, 305]), (datetime.date(2015, 5, 26), [3068, 1869]), (datetime.date(2015, 5, 27), [3198, 1985]), (datetime.date(2015, 5, 28), [3225, 1900]), (datetime.date(2015, 5, 29), [2792, 1657])]}\n"
     ]
    }
   ],
   "source": [
    "# Sanity check some values\n",
    "print 'Num of keys: ' + str(len(d_mod.keys()))\n",
    "count3 = 0\n",
    "for key in d_mod.keys():\n",
    "    count3 += len(d_mod[key])\n",
    "print 'Num of values: ' + str(count3)\n",
    "\n",
    "print 'Sample key: value pair '\n",
    "n_items3 = {k: d_mod[k] for k in d_mod.keys()[:1]}\n",
    "print n_items3"
   ]
  },
  {
   "cell_type": "code",
   "execution_count": 12,
   "metadata": {
    "collapsed": false
   },
   "outputs": [],
   "source": [
    "with open('daily_entry_final.pickle','wb') as handle:\n",
    "    pickle.dump(d_mod, handle)"
   ]
  },
  {
   "cell_type": "code",
   "execution_count": null,
   "metadata": {
    "collapsed": true
   },
   "outputs": [],
   "source": [
    "### Challenge 4 ###"
   ]
  },
  {
   "cell_type": "code",
   "execution_count": null,
   "metadata": {
    "collapsed": true
   },
   "outputs": [],
   "source": [
    "%matplotlib inline\n",
    "\n",
    "values = n_items3.keys()[0]\n",
    "values_split = zip(*values)\n",
    "dates, counts = values_split[0], values_split[1]\n",
    "\n",
    "plt.figure(figsize=(10,3))\n",
    "plt.plot(dates,counts)"
   ]
  }
 ],
 "metadata": {
  "kernelspec": {
   "display_name": "Python 2",
   "language": "python",
   "name": "python2"
  },
  "language_info": {
   "codemirror_mode": {
    "name": "ipython",
    "version": 2
   },
   "file_extension": ".py",
   "mimetype": "text/x-python",
   "name": "python",
   "nbconvert_exporter": "python",
   "pygments_lexer": "ipython2",
   "version": "2.7.11"
  }
 },
 "nbformat": 4,
 "nbformat_minor": 0
}
