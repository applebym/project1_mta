{
 "cells": [
  {
   "cell_type": "code",
   "execution_count": 1,
   "metadata": {
    "collapsed": true
   },
   "outputs": [],
   "source": [
    "import urllib\n",
    "import csv\n",
    "import os\n",
    "import datetime\n",
    "import dateutil.parser"
   ]
  },
  {
   "cell_type": "code",
   "execution_count": null,
   "metadata": {
    "collapsed": true
   },
   "outputs": [],
   "source": [
    "### CHALLENGE 1 ###"
   ]
  },
  {
   "cell_type": "code",
   "execution_count": 3,
   "metadata": {
    "collapsed": false
   },
   "outputs": [],
   "source": [
    "def file_save(start, end, timedelta): \n",
    "    \"\"\"\n",
    "    Saves the .txt files on the MTA website as .csv files in a directory called 'data'.\n",
    "    \n",
    "    @params start: datetime object\n",
    "    @params end: datetime object\n",
    "    @params timedelta: timedelta object\n",
    "    \"\"\"\n",
    "    while start < end:\n",
    "        suffix_year = str(start.year)[-2:]          # Creates the year in the suffix\n",
    "        \n",
    "        if len(str(start.month)) == 1:              # Creates the month in the suffix\n",
    "            suffix_month = '0' + str(start.month)\n",
    "        else:\n",
    "            suffix_month = str(start.month)\n",
    "        \n",
    "        if len(str(start.day)) == 1:                # Creates the day in the suffix\n",
    "            suffix_day = '0' + str(start.day)\n",
    "        else:\n",
    "            suffix_day = str(start.day)\n",
    "        suf = suffix_year + suffix_month + suffix_day\n",
    "        \n",
    "        url = 'http://web.mta.info/developers/data/nyct/turnstile/turnstile_' + suf + '.txt'\n",
    "        urllib.urlretrieve(url, 'data/turnstile_' + suf + '.csv')\n",
    "        \n",
    "        start = start + timedelta"
   ]
  },
  {
   "cell_type": "code",
   "execution_count": 8,
   "metadata": {
    "collapsed": false
   },
   "outputs": [
    {
     "ename": "error",
     "evalue": "[Errno 54] Connection reset by peer",
     "output_type": "error",
     "traceback": [
      "\u001b[0;31m---------------------------------------------------------------------------\u001b[0m",
      "\u001b[0;31merror\u001b[0m                                     Traceback (most recent call last)",
      "\u001b[0;32m<ipython-input-8-8d0b881cb294>\u001b[0m in \u001b[0;36m<module>\u001b[0;34m()\u001b[0m\n\u001b[1;32m     10\u001b[0m \u001b[0mtimedelta\u001b[0m \u001b[0;34m=\u001b[0m \u001b[0mdatetime\u001b[0m\u001b[0;34m.\u001b[0m\u001b[0mtimedelta\u001b[0m\u001b[0;34m(\u001b[0m\u001b[0mdays\u001b[0m\u001b[0;34m=\u001b[0m\u001b[0;36m7\u001b[0m\u001b[0;34m)\u001b[0m\u001b[0;34m\u001b[0m\u001b[0m\n\u001b[1;32m     11\u001b[0m \u001b[0;34m\u001b[0m\u001b[0m\n\u001b[0;32m---> 12\u001b[0;31m \u001b[0mfile_save\u001b[0m\u001b[0;34m(\u001b[0m\u001b[0mstart1\u001b[0m\u001b[0;34m,\u001b[0m \u001b[0mend1\u001b[0m\u001b[0;34m,\u001b[0m \u001b[0mtimedelta\u001b[0m\u001b[0;34m)\u001b[0m\u001b[0;34m\u001b[0m\u001b[0m\n\u001b[0m\u001b[1;32m     13\u001b[0m \u001b[0mfile_save\u001b[0m\u001b[0;34m(\u001b[0m\u001b[0mstart2\u001b[0m\u001b[0;34m,\u001b[0m \u001b[0mend2\u001b[0m\u001b[0;34m,\u001b[0m \u001b[0mtimedelta\u001b[0m\u001b[0;34m)\u001b[0m\u001b[0;34m\u001b[0m\u001b[0m\n",
      "\u001b[0;32m<ipython-input-3-985a5057cfe0>\u001b[0m in \u001b[0;36mfile_save\u001b[0;34m(start, end, timedelta)\u001b[0m\n\u001b[1;32m     22\u001b[0m \u001b[0;34m\u001b[0m\u001b[0m\n\u001b[1;32m     23\u001b[0m         \u001b[0murl\u001b[0m \u001b[0;34m=\u001b[0m \u001b[0;34m'http://web.mta.info/developers/data/nyct/turnstile/turnstile_'\u001b[0m \u001b[0;34m+\u001b[0m \u001b[0msuf\u001b[0m \u001b[0;34m+\u001b[0m \u001b[0;34m'.txt'\u001b[0m\u001b[0;34m\u001b[0m\u001b[0m\n\u001b[0;32m---> 24\u001b[0;31m         \u001b[0murllib\u001b[0m\u001b[0;34m.\u001b[0m\u001b[0murlretrieve\u001b[0m\u001b[0;34m(\u001b[0m\u001b[0murl\u001b[0m\u001b[0;34m,\u001b[0m \u001b[0;34m'data/turnstile_'\u001b[0m \u001b[0;34m+\u001b[0m \u001b[0msuf\u001b[0m \u001b[0;34m+\u001b[0m \u001b[0;34m'.csv'\u001b[0m\u001b[0;34m)\u001b[0m\u001b[0;34m\u001b[0m\u001b[0m\n\u001b[0m\u001b[1;32m     25\u001b[0m \u001b[0;34m\u001b[0m\u001b[0m\n\u001b[1;32m     26\u001b[0m         \u001b[0mstart\u001b[0m \u001b[0;34m=\u001b[0m \u001b[0mstart\u001b[0m \u001b[0;34m+\u001b[0m \u001b[0mtimedelta\u001b[0m\u001b[0;34m\u001b[0m\u001b[0m\n",
      "\u001b[0;32m/Users/MelanieAppleby/anaconda/envs/benson/lib/python2.7/urllib.pyc\u001b[0m in \u001b[0;36murlretrieve\u001b[0;34m(url, filename, reporthook, data, context)\u001b[0m\n\u001b[1;32m     96\u001b[0m     \u001b[0;32melse\u001b[0m\u001b[0;34m:\u001b[0m\u001b[0;34m\u001b[0m\u001b[0m\n\u001b[1;32m     97\u001b[0m         \u001b[0mopener\u001b[0m \u001b[0;34m=\u001b[0m \u001b[0m_urlopener\u001b[0m\u001b[0;34m\u001b[0m\u001b[0m\n\u001b[0;32m---> 98\u001b[0;31m     \u001b[0;32mreturn\u001b[0m \u001b[0mopener\u001b[0m\u001b[0;34m.\u001b[0m\u001b[0mretrieve\u001b[0m\u001b[0;34m(\u001b[0m\u001b[0murl\u001b[0m\u001b[0;34m,\u001b[0m \u001b[0mfilename\u001b[0m\u001b[0;34m,\u001b[0m \u001b[0mreporthook\u001b[0m\u001b[0;34m,\u001b[0m \u001b[0mdata\u001b[0m\u001b[0;34m)\u001b[0m\u001b[0;34m\u001b[0m\u001b[0m\n\u001b[0m\u001b[1;32m     99\u001b[0m \u001b[0;32mdef\u001b[0m \u001b[0murlcleanup\u001b[0m\u001b[0;34m(\u001b[0m\u001b[0;34m)\u001b[0m\u001b[0;34m:\u001b[0m\u001b[0;34m\u001b[0m\u001b[0m\n\u001b[1;32m    100\u001b[0m     \u001b[0;32mif\u001b[0m \u001b[0m_urlopener\u001b[0m\u001b[0;34m:\u001b[0m\u001b[0;34m\u001b[0m\u001b[0m\n",
      "\u001b[0;32m/Users/MelanieAppleby/anaconda/envs/benson/lib/python2.7/urllib.pyc\u001b[0m in \u001b[0;36mretrieve\u001b[0;34m(self, url, filename, reporthook, data)\u001b[0m\n\u001b[1;32m    271\u001b[0m                     \u001b[0mreporthook\u001b[0m\u001b[0;34m(\u001b[0m\u001b[0mblocknum\u001b[0m\u001b[0;34m,\u001b[0m \u001b[0mbs\u001b[0m\u001b[0;34m,\u001b[0m \u001b[0msize\u001b[0m\u001b[0;34m)\u001b[0m\u001b[0;34m\u001b[0m\u001b[0m\n\u001b[1;32m    272\u001b[0m                 \u001b[0;32mwhile\u001b[0m \u001b[0;36m1\u001b[0m\u001b[0;34m:\u001b[0m\u001b[0;34m\u001b[0m\u001b[0m\n\u001b[0;32m--> 273\u001b[0;31m                     \u001b[0mblock\u001b[0m \u001b[0;34m=\u001b[0m \u001b[0mfp\u001b[0m\u001b[0;34m.\u001b[0m\u001b[0mread\u001b[0m\u001b[0;34m(\u001b[0m\u001b[0mbs\u001b[0m\u001b[0;34m)\u001b[0m\u001b[0;34m\u001b[0m\u001b[0m\n\u001b[0m\u001b[1;32m    274\u001b[0m                     \u001b[0;32mif\u001b[0m \u001b[0mblock\u001b[0m \u001b[0;34m==\u001b[0m \u001b[0;34m\"\"\u001b[0m\u001b[0;34m:\u001b[0m\u001b[0;34m\u001b[0m\u001b[0m\n\u001b[1;32m    275\u001b[0m                         \u001b[0;32mbreak\u001b[0m\u001b[0;34m\u001b[0m\u001b[0m\n",
      "\u001b[0;32m/Users/MelanieAppleby/anaconda/envs/benson/lib/python2.7/socket.pyc\u001b[0m in \u001b[0;36mread\u001b[0;34m(self, size)\u001b[0m\n\u001b[1;32m    382\u001b[0m                 \u001b[0;31m# fragmentation issues on many platforms.\u001b[0m\u001b[0;34m\u001b[0m\u001b[0;34m\u001b[0m\u001b[0m\n\u001b[1;32m    383\u001b[0m                 \u001b[0;32mtry\u001b[0m\u001b[0;34m:\u001b[0m\u001b[0;34m\u001b[0m\u001b[0m\n\u001b[0;32m--> 384\u001b[0;31m                     \u001b[0mdata\u001b[0m \u001b[0;34m=\u001b[0m \u001b[0mself\u001b[0m\u001b[0;34m.\u001b[0m\u001b[0m_sock\u001b[0m\u001b[0;34m.\u001b[0m\u001b[0mrecv\u001b[0m\u001b[0;34m(\u001b[0m\u001b[0mleft\u001b[0m\u001b[0;34m)\u001b[0m\u001b[0;34m\u001b[0m\u001b[0m\n\u001b[0m\u001b[1;32m    385\u001b[0m                 \u001b[0;32mexcept\u001b[0m \u001b[0merror\u001b[0m\u001b[0;34m,\u001b[0m \u001b[0me\u001b[0m\u001b[0;34m:\u001b[0m\u001b[0;34m\u001b[0m\u001b[0m\n\u001b[1;32m    386\u001b[0m                     \u001b[0;32mif\u001b[0m \u001b[0me\u001b[0m\u001b[0;34m.\u001b[0m\u001b[0margs\u001b[0m\u001b[0;34m[\u001b[0m\u001b[0;36m0\u001b[0m\u001b[0;34m]\u001b[0m \u001b[0;34m==\u001b[0m \u001b[0mEINTR\u001b[0m\u001b[0;34m:\u001b[0m\u001b[0;34m\u001b[0m\u001b[0m\n",
      "\u001b[0;31merror\u001b[0m: [Errno 54] Connection reset by peer"
     ]
    }
   ],
   "source": [
    "# April - June 2014\n",
    "# start1 = datetime.date(2014,3,29)\n",
    "start1 = datetime.date(2014,4,26)\n",
    "end1 = datetime.date(2014,6,30)\n",
    "# April - June 2015\n",
    "start2 = datetime.date(2015,3,28)\n",
    "end2 = datetime.date(2015,6,30)\n",
    "\n",
    "# Iterate by 7 day increments\n",
    "timedelta = datetime.timedelta(days=7)\n",
    "\n",
    "file_save(start1, end1, timedelta)\n",
    "file_save(start2, end2, timedelta)"
   ]
  },
  {
   "cell_type": "code",
   "execution_count": null,
   "metadata": {
    "collapsed": true
   },
   "outputs": [],
   "source": [
    "def read_files(file_list):\n",
    "    \"\"\"\n",
    "    Reads the .csv files in the given file list and imports the data into a \n",
    "    dictionary with the following structure:\n",
    "    key: (col1, col2, col3, col4)\n",
    "    value: [[col5, col6, col7, col8, col9, col10, col11],...]\n",
    "    \n",
    "    NOTE that the first four columns repeat in the data, thus the values \n",
    "    are lists of lists representing other data points for the same key. \n",
    "    \n",
    "    @params file_list: list\n",
    "    Returns the dictionary.\n",
    "    \"\"\"\n",
    "    mta_dict = {}\n",
    "    for f in file_list:\n",
    "        fn = open('data/' + f)\n",
    "        reader = csv.reader(fn)\n",
    "        reader.next()\n",
    "        for line in reader:\n",
    "            key = (line[0], line[1], line[2], line[3])\n",
    "            value = line [4:]\n",
    "            if key in mta_dict:\n",
    "                mta_dict.get(key).append(value)\n",
    "            else:\n",
    "                mta_dict[key] = [value]\n",
    "        fn.close()\n",
    "    return mta_dict()"
   ]
  },
  {
   "cell_type": "code",
   "execution_count": null,
   "metadata": {
    "collapsed": true
   },
   "outputs": [],
   "source": [
    "file_list = [f for f in os.listdir('data/') if f.endswith('.csv')]  # List of files in 'data' directory.\n",
    "mta_dict = read_files(file_list)"
   ]
  },
  {
   "cell_type": "code",
   "execution_count": null,
   "metadata": {
    "collapsed": true
   },
   "outputs": [],
   "source": [
    "# Sanity check some values\n",
    "print 'Num of keys: ' + str(len(mta_dict.keys()))\n",
    "count = 0\n",
    "for key in mta_dict.keys():\n",
    "    count += len(mta_dict[key])\n",
    "print 'Num of values: ' + str(count)\n",
    "\n",
    "print 'Sample key: value pair '\n",
    "n_items = {k: mta_dict[k] for k in mta_dict.keys()[:1]}\n",
    "print n_items"
   ]
  },
  {
   "cell_type": "code",
   "execution_count": null,
   "metadata": {
    "collapsed": true
   },
   "outputs": [],
   "source": [
    "### Challenge 2 ###"
   ]
  },
  {
   "cell_type": "code",
   "execution_count": null,
   "metadata": {
    "collapsed": false,
    "scrolled": true
   },
   "outputs": [],
   "source": [
    "def make_time_series(full_dict)\n",
    "    \"\"\"\n",
    "    Keeping the keys the same, creates a new dictionary where the values are lists \n",
    "    of lists of dates and the number of entries on that day. The structure is:\n",
    "    key: (col1, col2, col3, col4)\n",
    "    value: [[datetime object, number of entries],...]\n",
    "    \n",
    "    @params full_dict: dictionary\n",
    "    Returns the new dictionary.\n",
    "    \"\"\"\n",
    "    time_dict = {}\n",
    "    for key, value in full_dict.iteritems():\n",
    "        for v in value:\n",
    "            date = v[2]\n",
    "            time = v[3]\n",
    "            datetime = dateutil.parser.parse(str(date) + ' ' + str(time))\n",
    "            try:\n",
    "                entry = int(v[5].lstrip('0'))\n",
    "            except ValueError:\n",
    "                entry = 0\n",
    "            updated_value = [datetime, entry]\n",
    "            if key in time_dict:\n",
    "                time_dict.get(key).append(updated_value)\n",
    "            else:\n",
    "                time_dict[key] = [updated_value]\n",
    "    return time_dict"
   ]
  },
  {
   "cell_type": "code",
   "execution_count": null,
   "metadata": {
    "collapsed": true
   },
   "outputs": [],
   "source": [
    "time_dict = make_time_series(mta_dict)"
   ]
  },
  {
   "cell_type": "code",
   "execution_count": null,
   "metadata": {
    "collapsed": true
   },
   "outputs": [],
   "source": [
    "# Sanity check some values\n",
    "print 'Num of keys: ' + str(len(time_dict.keys()))\n",
    "count = 0\n",
    "for key in time_dict.keys():\n",
    "    count += len(time_dict[key])\n",
    "print 'Num of values: ' + str(count)\n",
    "\n",
    "print 'Sample key: value pair '\n",
    "n_items = {k: time_dict[k] for k in time_dict.keys()[:1]}\n",
    "print n_items"
   ]
  },
  {
   "cell_type": "code",
   "execution_count": null,
   "metadata": {
    "collapsed": true
   },
   "outputs": [],
   "source": [
    "### Challenge 3 ###"
   ]
  },
  {
   "cell_type": "code",
   "execution_count": null,
   "metadata": {
    "collapsed": false
   },
   "outputs": [],
   "source": [
    "def make_daily_time_series(time_dict):\n",
    "    \"\"\"\n",
    "    Condenses the values of the given dictionary to create a daily \n",
    "    count of the number of entries. Structure is as follows:\n",
    "    key: (col1, col2, col3, col4)\n",
    "    value: [[date object, number of entries],...] \n",
    "    \"\"\"\n",
    "    day_dict = {}\n",
    "    for key, value in time_dict.iteritems():\n",
    "        values_sorted = sorted(value)\n",
    "        i = 0\n",
    "        while i < len(values_sorted):\n",
    "            while values_sorted[i][0].day == values_sorted[i+1][0].day:\n",
    "                values_sorted[i][1] += values_sorted[i+1][1]\n",
    "                del values_sorted[i+1]\n",
    "                if i == len(values_sorted)-1: break\n",
    "            i = i + 1\n",
    "        for day in values_sorted:\n",
    "            day[0] = datetime.date(day[0].year, day[0].month, day[0].day)\n",
    "        day_dict[key] = values_sorted\n",
    "    return day_dict"
   ]
  },
  {
   "cell_type": "code",
   "execution_count": null,
   "metadata": {
    "collapsed": false
   },
   "outputs": [],
   "source": [
    "daily_dict = make_daily_time_series(time_dict)"
   ]
  },
  {
   "cell_type": "code",
   "execution_count": null,
   "metadata": {
    "collapsed": true
   },
   "outputs": [],
   "source": [
    "# Sanity check some values\n",
    "print 'Num of keys: ' + str(len(daily_dict.keys()))\n",
    "count = 0\n",
    "for key in daily_dict.keys():\n",
    "    count += len(daily_dict[key])\n",
    "print 'Num of values: ' + str(count)\n",
    "\n",
    "print 'Sample key: value pair '\n",
    "n_items = {k: daily_dict[k] for k in daily_dict.keys()[:1]}\n",
    "print n_items"
   ]
  }
 ],
 "metadata": {
  "kernelspec": {
   "display_name": "Python 2",
   "language": "python",
   "name": "python2"
  },
  "language_info": {
   "codemirror_mode": {
    "name": "ipython",
    "version": 2
   },
   "file_extension": ".py",
   "mimetype": "text/x-python",
   "name": "python",
   "nbconvert_exporter": "python",
   "pygments_lexer": "ipython2",
   "version": "2.7.11"
  }
 },
 "nbformat": 4,
 "nbformat_minor": 0
}
