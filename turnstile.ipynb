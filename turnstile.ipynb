{
 "cells": [
  {
   "cell_type": "code",
   "execution_count": 1,
   "metadata": {
    "collapsed": true
   },
   "outputs": [],
   "source": [
    "import csv\n",
    "import datetime as datetime"
   ]
  },
  {
   "cell_type": "code",
   "execution_count": 2,
   "metadata": {
    "collapsed": true
   },
   "outputs": [],
   "source": [
    "def read_data(data):\n",
    "    with open(data,'rb') as f:\n",
    "        reader = csv.reader(f)\n",
    "        results=list(reader)\n",
    "    return results\n",
    "\n"
   ]
  },
  {
   "cell_type": "code",
   "execution_count": 3,
   "metadata": {
    "collapsed": false
   },
   "outputs": [],
   "source": [
    "file1 = ''\n",
    "t160402 = read_data('data/turnstile_160402.txt')\n",
    "#for line in t160402[0]:\n",
    "#    print line\n"
   ]
  },
  {
   "cell_type": "code",
   "execution_count": 19,
   "metadata": {
    "collapsed": false,
    "scrolled": true
   },
   "outputs": [
    {
     "name": "stdout",
     "output_type": "stream",
     "text": [
      "('TRAM2', 'R469', '00-05-01', 'RIT-ROOSEVELT') [datetime.datetime(2016, 4, 1, 21, 0), '0000005554']\n"
     ]
    }
   ],
   "source": [
    "from collections import defaultdict\n",
    "\n",
    "mtad = defaultdict(list)\n",
    "\n",
    "fmt = '%m/%d/%Y %H:%M:%S'\n",
    "\n",
    "for line in t160402[1:]:\n",
    "    tkey = (line[0],line[1],line[2],line[3])\n",
    "    da = datetime.datetime.strptime(line[6] +' ' + line[7],fmt)\n",
    "    data = [da,line[9]]\n",
    "    if tkey in mtad:\n",
    "        mtad[tkey].append(data)\n",
    "    else:\n",
    "        mtad[tkey] = [data]\n",
    "\n",
    "print tkey,data"
   ]
  },
  {
   "cell_type": "code",
   "execution_count": 96,
   "metadata": {
    "collapsed": false,
    "scrolled": true
   },
   "outputs": [
    {
     "name": "stdout",
     "output_type": "stream",
     "text": [
      "('N134', 'R385', '00-00-00', 'ROCKAWAY BLVD') {datetime.date(2016, 3, 31): 1562, datetime.date(2016, 3, 26): 737, datetime.date(2016, 3, 27): 809, datetime.date(2016, 3, 28): 541, datetime.date(2016, 3, 29): 1400, datetime.date(2016, 3, 30): 1561, datetime.date(2016, 4, 1): 1530}\n",
      "('N192', 'R336', '00-05-00', 'BEACH 60 ST') {datetime.date(2016, 3, 31): 1, datetime.date(2016, 3, 26): 0, datetime.date(2016, 3, 27): 0, datetime.date(2016, 3, 28): 0, datetime.date(2016, 3, 29): 0, datetime.date(2016, 3, 30): 0, datetime.date(2016, 4, 1): 0}\n",
      "('PTH08', 'R540', '00-01-06', 'PATH WTC') {datetime.date(2016, 3, 31): 742, datetime.date(2016, 3, 26): 239, datetime.date(2016, 3, 27): 233, datetime.date(2016, 3, 28): 124, datetime.date(2016, 3, 29): 762, datetime.date(2016, 3, 30): 767, datetime.date(2016, 4, 1): 666}\n",
      "('H016', 'R250', '00-00-02', 'GRAND ST') {datetime.date(2016, 3, 31): 383, datetime.date(2016, 3, 26): 181, datetime.date(2016, 3, 27): 191, datetime.date(2016, 3, 28): 117, datetime.date(2016, 3, 29): 339, datetime.date(2016, 3, 30): 380, datetime.date(2016, 4, 1): 336}\n",
      "('A069', 'R044', '01-00-02', 'CHAMBERS ST') {datetime.date(2016, 3, 31): 1285, datetime.date(2016, 3, 26): 404, datetime.date(2016, 3, 27): 437, datetime.date(2016, 3, 28): 314, datetime.date(2016, 3, 29): 1142, datetime.date(2016, 3, 30): 1245, datetime.date(2016, 4, 1): 1289}\n",
      "('R619', 'R059', '00-00-01', 'GRAND ARMY PLAZ') {datetime.date(2016, 3, 31): 1715, datetime.date(2016, 3, 26): 1014, datetime.date(2016, 3, 27): 1119, datetime.date(2016, 3, 28): 819, datetime.date(2016, 3, 29): 1651, datetime.date(2016, 3, 30): 1718, datetime.date(2016, 4, 1): 1750}\n",
      "('N601', 'R319', '00-05-00', 'LEXINGTON AV/63') {datetime.date(2016, 3, 31): 3, datetime.date(2016, 3, 26): 0, datetime.date(2016, 3, 27): 0, datetime.date(2016, 3, 28): 0, datetime.date(2016, 3, 29): 2, datetime.date(2016, 3, 30): 1, datetime.date(2016, 4, 1): 1}\n",
      "('N016A', 'R296', '00-00-02', '163 ST-AMSTERDM') {datetime.date(2016, 3, 31): 1964, datetime.date(2016, 3, 26): 1192, datetime.date(2016, 3, 27): 1275, datetime.date(2016, 3, 28): 986, datetime.date(2016, 3, 29): 1855, datetime.date(2016, 3, 30): 1959, datetime.date(2016, 4, 1): 2052}\n",
      "('R190', 'R038', '00-00-02', '215 ST') {datetime.date(2016, 3, 31): 710, datetime.date(2016, 3, 26): 396, datetime.date(2016, 3, 27): 416, datetime.date(2016, 3, 28): 294, datetime.date(2016, 3, 29): 678, datetime.date(2016, 3, 30): 794, datetime.date(2016, 4, 1): 663}\n",
      "('R409', 'R449', '01-00-00', 'E 149 ST') {datetime.date(2016, 3, 31): 218, datetime.date(2016, 3, 26): 245, datetime.date(2016, 3, 27): 263, datetime.date(2016, 3, 28): 242, datetime.date(2016, 3, 29): 365, datetime.date(2016, 3, 30): 415, datetime.date(2016, 4, 1): 467}\n",
      "('N062', 'R011', '01-03-03', '42 ST-PORT AUTH') {datetime.date(2016, 3, 31): 2043, datetime.date(2016, 3, 26): 736, datetime.date(2016, 3, 27): 901, datetime.date(2016, 3, 28): 1044, datetime.date(2016, 3, 29): 2248, datetime.date(2016, 3, 30): 2144, datetime.date(2016, 4, 1): 2173}\n",
      "('R200A', 'R041', '01-05-01', 'BOWLING GREEN') {datetime.date(2016, 3, 31): 0, datetime.date(2016, 3, 26): 0, datetime.date(2016, 3, 27): 0, datetime.date(2016, 3, 28): 0, datetime.date(2016, 3, 29): 0, datetime.date(2016, 3, 30): 0, datetime.date(2016, 4, 1): 0}\n",
      "('N604', 'R342', '00-00-01', 'JAMAICA VAN WK') {datetime.date(2016, 3, 31): 1295, datetime.date(2016, 3, 26): 574, datetime.date(2016, 3, 27): 587, datetime.date(2016, 3, 28): 468, datetime.date(2016, 3, 29): 1193, datetime.date(2016, 3, 30): 1275, datetime.date(2016, 4, 1): 1228}\n",
      "('R609', 'R056', '01-00-01', 'NEVINS ST') {datetime.date(2016, 3, 31): 1209, datetime.date(2016, 3, 26): 467, datetime.date(2016, 3, 27): 506, datetime.date(2016, 3, 28): 333, datetime.date(2016, 3, 29): 1176, datetime.date(2016, 3, 30): 1265, datetime.date(2016, 4, 1): 1328}\n",
      "('J012', 'R379', '00-00-00', 'KOSCIUSZKO ST') {datetime.date(2016, 3, 31): 2136, datetime.date(2016, 3, 26): 1387, datetime.date(2016, 3, 27): 1398, datetime.date(2016, 3, 28): 1089, datetime.date(2016, 3, 29): 1912, datetime.date(2016, 3, 30): 2079, datetime.date(2016, 4, 1): 2171}\n",
      "('N519', 'R461', '00-00-01', \"B'WAY-LAFAYETTE\") {datetime.date(2016, 3, 31): 1768, datetime.date(2016, 3, 26): 937, datetime.date(2016, 3, 27): 1055, datetime.date(2016, 3, 28): 639, datetime.date(2016, 3, 29): 1625, datetime.date(2016, 3, 30): 1805, datetime.date(2016, 4, 1): 1782}\n",
      "('N020', 'R101', '00-00-05', '145 ST') {datetime.date(2016, 3, 31): 3998, datetime.date(2016, 3, 26): 2892, datetime.date(2016, 3, 27): 3044, datetime.date(2016, 3, 28): 2484, datetime.date(2016, 3, 29): 3698, datetime.date(2016, 3, 30): 4006, datetime.date(2016, 4, 1): 3822}\n",
      "('H019', 'R294', '00-06-00', 'MORGAN AV') {datetime.date(2016, 3, 31): 1452, datetime.date(2016, 3, 26): 1270, datetime.date(2016, 3, 27): 1226, datetime.date(2016, 3, 28): 889, datetime.date(2016, 3, 29): 1248, datetime.date(2016, 3, 30): 1376, datetime.date(2016, 4, 1): 1363}\n",
      "('A083', 'R125', '00-00-01', 'BROAD ST') {datetime.date(2016, 3, 26): 354, datetime.date(2016, 3, 29): 594, datetime.date(2016, 4, 1): 395, datetime.date(2016, 3, 27): 366, datetime.date(2016, 3, 28): 261}\n",
      "('N067', 'R012', '00-06-00', '34 ST-PENN STA') {datetime.date(2016, 3, 31): 259, datetime.date(2016, 3, 26): 203, datetime.date(2016, 3, 27): 228, datetime.date(2016, 3, 28): 245, datetime.date(2016, 3, 29): 312, datetime.date(2016, 3, 30): 276, datetime.date(2016, 4, 1): 278}\n",
      "('N131', 'R383', '00-00-01', '80 ST') {datetime.date(2016, 3, 31): 203, datetime.date(2016, 3, 26): 88, datetime.date(2016, 3, 27): 84, datetime.date(2016, 3, 28): 51, datetime.date(2016, 3, 29): 230, datetime.date(2016, 3, 30): 200, datetime.date(2016, 4, 1): 203}\n",
      "('S102', 'R165', '00-05-00', 'TOMPKINSVILLE') {datetime.date(2016, 3, 31): 0, datetime.date(2016, 3, 26): 0, datetime.date(2016, 3, 27): 0, datetime.date(2016, 3, 28): 0, datetime.date(2016, 3, 29): 0, datetime.date(2016, 3, 30): 0, datetime.date(2016, 4, 1): 1}\n",
      "('H023', 'R236', '00-06-00', 'DEKALB AV') {datetime.date(2016, 3, 31): 2206, datetime.date(2016, 3, 26): 1369, datetime.date(2016, 3, 27): 1500, datetime.date(2016, 3, 28): 1137, datetime.date(2016, 3, 29): 1966, datetime.date(2016, 3, 30): 2142, datetime.date(2016, 4, 1): 2248}\n",
      "('N503', 'R021', '00-00-03', '42 ST-BRYANT PK') {datetime.date(2016, 3, 31): 1385, datetime.date(2016, 3, 26): 721, datetime.date(2016, 3, 27): 687, datetime.date(2016, 3, 28): 600, datetime.date(2016, 3, 29): 1208, datetime.date(2016, 3, 30): 1336, datetime.date(2016, 4, 1): 1552}\n",
      "('R162', 'R166', '00-00-02', '79 ST') {datetime.date(2016, 3, 31): 1879, datetime.date(2016, 3, 26): 1377, datetime.date(2016, 3, 27): 1498, datetime.date(2016, 3, 28): 1095, datetime.date(2016, 3, 29): 1825, datetime.date(2016, 3, 30): 1882, datetime.date(2016, 4, 1): 1966}\n",
      "('PTH08', 'R540', '00-04-07', 'PATH WTC') {datetime.date(2016, 3, 31): 2534, datetime.date(2016, 3, 26): 651, datetime.date(2016, 3, 27): 617, datetime.date(2016, 3, 28): 279, datetime.date(2016, 3, 29): 1990, datetime.date(2016, 3, 30): 2377, datetime.date(2016, 4, 1): 2632}\n",
      "('N505', 'R022', '02-00-07', '34 ST-HERALD SQ') {datetime.date(2016, 3, 31): 1378, datetime.date(2016, 3, 26): 554, datetime.date(2016, 3, 27): 615, datetime.date(2016, 3, 28): 373, datetime.date(2016, 3, 29): 1359, datetime.date(2016, 3, 30): 1405, datetime.date(2016, 4, 1): 1495}\n",
      "('C008', 'R099', '00-00-01', 'DEKALB AV') {datetime.date(2016, 3, 31): 1295, datetime.date(2016, 3, 26): 736, datetime.date(2016, 3, 27): 787, datetime.date(2016, 3, 28): 497, datetime.date(2016, 3, 29): 1121, datetime.date(2016, 3, 30): 1293, datetime.date(2016, 4, 1): 1270}\n",
      "('N046', 'R281', '00-00-02', '72 ST') {datetime.date(2016, 3, 31): 2810, datetime.date(2016, 3, 26): 2100, datetime.date(2016, 3, 27): 2226, datetime.date(2016, 3, 28): 1841, datetime.date(2016, 3, 29): 2498, datetime.date(2016, 3, 30): 2722, datetime.date(2016, 4, 1): 2883}\n",
      "('D012', 'R395', '00-00-00', 'KINGS HWY') {datetime.date(2016, 3, 31): 304, datetime.date(2016, 3, 26): 168, datetime.date(2016, 3, 27): 174, datetime.date(2016, 3, 28): 139, datetime.date(2016, 3, 29): 323, datetime.date(2016, 3, 30): 275, datetime.date(2016, 4, 1): 321}\n",
      "('R116', 'R030', '00-05-02', 'CHAMBERS ST') {datetime.date(2016, 3, 31): 0, datetime.date(2016, 3, 26): 0, datetime.date(2016, 3, 27): 0, datetime.date(2016, 3, 28): 0, datetime.date(2016, 3, 29): 0, datetime.date(2016, 3, 30): 0, datetime.date(2016, 4, 1): 0}\n",
      "('C015', 'R454', '00-00-00', 'PROSPECT AV') {datetime.date(2016, 3, 31): 127, datetime.date(2016, 3, 26): 34, datetime.date(2016, 3, 27): 39, datetime.date(2016, 3, 28): 34, datetime.date(2016, 3, 29): 125, datetime.date(2016, 3, 30): 133, datetime.date(2016, 4, 1): 135}\n",
      "('N111', 'R284', '00-06-01', 'CLINTON-WASH AV') {datetime.date(2016, 3, 31): -1060, datetime.date(2016, 3, 26): -617, datetime.date(2016, 3, 27): -642, datetime.date(2016, 3, 28): -457, datetime.date(2016, 3, 29): -968, datetime.date(2016, 3, 30): -1065, datetime.date(2016, 4, 1): -1500}\n",
      "('R286', 'R309', '00-00-03', '176 ST') {datetime.date(2016, 3, 31): 2033, datetime.date(2016, 3, 26): 1308, datetime.date(2016, 3, 27): 1405, datetime.date(2016, 3, 28): 992, datetime.date(2016, 3, 29): 1856, datetime.date(2016, 3, 30): 1957, datetime.date(2016, 4, 1): 1923}\n",
      "('R245A', 'R051', '01-06-00', '59 ST') {datetime.date(2016, 3, 31): 655, datetime.date(2016, 3, 26): 144, datetime.date(2016, 3, 27): 171, datetime.date(2016, 3, 28): 125, datetime.date(2016, 3, 29): 608, datetime.date(2016, 3, 30): 695, datetime.date(2016, 4, 1): 644}\n",
      "('N185', 'R417', '00-00-00', 'BEACH 98 ST') {datetime.date(2016, 3, 31): 217, datetime.date(2016, 3, 26): 72, datetime.date(2016, 3, 27): 70, datetime.date(2016, 3, 28): 55, datetime.date(2016, 3, 29): 209, datetime.date(2016, 3, 30): 207, datetime.date(2016, 4, 1): 192}\n",
      "('N007A', 'R174', '00-00-00', '181 ST') {datetime.date(2016, 3, 31): 2368, datetime.date(2016, 3, 26): 1284, datetime.date(2016, 3, 27): 1353, datetime.date(2016, 3, 28): 1124, datetime.date(2016, 3, 29): 2236, datetime.date(2016, 3, 30): 2440, datetime.date(2016, 4, 1): 2432}\n",
      "('R315', 'R406', '01-00-00', 'PROSPECT AV') {datetime.date(2016, 3, 31): 673, datetime.date(2016, 3, 26): 367, datetime.date(2016, 3, 27): 392, datetime.date(2016, 3, 28): 308, datetime.date(2016, 3, 29): 536, datetime.date(2016, 3, 30): 643, datetime.date(2016, 4, 1): 657}\n",
      "('R284', 'R243', '00-00-00', '170 ST') {datetime.date(2016, 3, 31): 2167, datetime.date(2016, 3, 26): 1235, datetime.date(2016, 3, 27): 1273, datetime.date(2016, 3, 28): 799, datetime.date(2016, 3, 29): 948, datetime.date(2016, 3, 30): 2062, datetime.date(2016, 4, 1): 2377}\n",
      "('R236', 'R045', '00-06-00', 'GRD CNTRL-42 ST') {datetime.date(2016, 3, 31): 2125, datetime.date(2016, 3, 26): 0, datetime.date(2016, 3, 27): 0, datetime.date(2016, 3, 28): 0, datetime.date(2016, 3, 29): 1788, datetime.date(2016, 3, 30): 1959, datetime.date(2016, 4, 1): 2010}\n",
      "('N182', 'R414', '00-00-01', 'HOWARD BCH JFK') {datetime.date(2016, 3, 31): 572, datetime.date(2016, 3, 26): 324, datetime.date(2016, 3, 27): 370, datetime.date(2016, 3, 28): 377, datetime.date(2016, 3, 29): 580, datetime.date(2016, 3, 30): 569, datetime.date(2016, 4, 1): 518}\n",
      "('JFK03', 'R536', '00-03-00', 'JFK JAMAICA CT1') {datetime.date(2016, 3, 31): 1022, datetime.date(2016, 3, 26): 640, datetime.date(2016, 3, 27): 778, datetime.date(2016, 3, 28): 1004, datetime.date(2016, 3, 29): 1036, datetime.date(2016, 3, 30): 910, datetime.date(2016, 4, 1): 1184}\n",
      "('N051', 'R084', '02-03-01', '59 ST COLUMBUS') {datetime.date(2016, 3, 31): 2854, datetime.date(2016, 3, 26): 1237, datetime.date(2016, 3, 27): 1329, datetime.date(2016, 3, 28): 1191, datetime.date(2016, 3, 29): 2413, datetime.date(2016, 3, 30): 2568, datetime.date(2016, 4, 1): 2567}\n",
      "('R182', 'R035', '00-03-02', '168 ST') {datetime.date(2016, 3, 31): 3761, datetime.date(2016, 3, 26): 1308, datetime.date(2016, 3, 27): 1459, datetime.date(2016, 3, 28): 978, datetime.date(2016, 3, 29): 3357, datetime.date(2016, 3, 30): 3825, datetime.date(2016, 4, 1): 3802}\n",
      "('R203', 'R043', '00-03-02', 'WALL ST') {datetime.date(2016, 3, 31): 1885, datetime.date(2016, 3, 26): 1, datetime.date(2016, 3, 27): 1, datetime.date(2016, 3, 28): 0, datetime.date(2016, 3, 29): 1526, datetime.date(2016, 3, 30): 1852, datetime.date(2016, 4, 1): 1884}\n",
      "('N001', 'R173', '01-05-01', 'INWOOD-207 ST') {datetime.date(2016, 3, 31): 0, datetime.date(2016, 3, 26): 0, datetime.date(2016, 3, 27): 0, datetime.date(2016, 3, 28): 0, datetime.date(2016, 3, 29): 0, datetime.date(2016, 3, 30): 0, datetime.date(2016, 4, 1): 0}\n",
      "('B018', 'R184', '00-00-00', 'CORTELYOU RD') {datetime.date(2016, 3, 31): 2654, datetime.date(2016, 3, 26): 1491, datetime.date(2016, 3, 27): 1615, datetime.date(2016, 3, 28): 1224, datetime.date(2016, 3, 29): 2383, datetime.date(2016, 3, 30): 2535, datetime.date(2016, 4, 1): 2558}\n",
      "('N556', 'R424', '00-00-01', 'AVENUE P') {datetime.date(2016, 3, 31): 829, datetime.date(2016, 3, 26): 400, datetime.date(2016, 3, 27): 416, datetime.date(2016, 3, 28): 338, datetime.date(2016, 3, 29): 824, datetime.date(2016, 3, 30): 851, datetime.date(2016, 4, 1): 792}\n",
      "('A034', 'R170', '03-03-00', '14 ST-UNION SQ') {datetime.date(2016, 3, 31): 2105, datetime.date(2016, 3, 26): 1642, datetime.date(2016, 3, 27): 1785, datetime.date(2016, 3, 28): 1010, datetime.date(2016, 3, 29): 1641, datetime.date(2016, 3, 30): 1777, datetime.date(2016, 4, 1): 2197}\n",
      "('R404', 'R447', '00-00-02', 'CYPRESS AV') {datetime.date(2016, 3, 31): 1067, datetime.date(2016, 3, 26): 509, datetime.date(2016, 3, 27): 536, datetime.date(2016, 3, 28): 432, datetime.date(2016, 3, 29): 856, datetime.date(2016, 3, 30): 998, datetime.date(2016, 4, 1): 1131}\n",
      "('C017', 'R455', '00-00-00', '25 ST') {datetime.date(2016, 3, 31): 560, datetime.date(2016, 3, 26): 328, datetime.date(2016, 3, 27): 362, datetime.date(2016, 3, 28): 297, datetime.date(2016, 3, 29): 541, datetime.date(2016, 3, 30): 555, datetime.date(2016, 4, 1): 571}\n",
      "('R610', 'R057', '00-06-03', 'ATL AV-BARCLAY') {datetime.date(2016, 3, 31): 377, datetime.date(2016, 3, 26): 40, datetime.date(2016, 3, 27): 62, datetime.date(2016, 3, 28): 234, datetime.date(2016, 3, 29): 378, datetime.date(2016, 3, 30): 354, datetime.date(2016, 4, 1): 345}\n",
      "('A082', 'R028', '05-06-00', 'FULTON ST') {datetime.date(2016, 3, 31): 732, datetime.date(2016, 3, 26): 345, datetime.date(2016, 3, 27): 351, datetime.date(2016, 3, 28): 214, datetime.date(2016, 3, 29): 685, datetime.date(2016, 3, 30): 760, datetime.date(2016, 4, 1): 750}\n",
      "('J012', 'R379', '00-00-02', 'KOSCIUSZKO ST') {datetime.date(2016, 3, 31): 1811, datetime.date(2016, 3, 26): 1198, datetime.date(2016, 3, 27): 1244, datetime.date(2016, 3, 28): 948, datetime.date(2016, 3, 29): 1692, datetime.date(2016, 3, 30): 1814, datetime.date(2016, 4, 1): 1823}\n",
      "('R504', 'R276', '00-00-00', 'VERNON-JACKSON') {datetime.date(2016, 3, 31): 1728, datetime.date(2016, 3, 26): 816, datetime.date(2016, 3, 27): 877, datetime.date(2016, 3, 28): 756, datetime.date(2016, 3, 29): 1697, datetime.date(2016, 3, 30): 1764, datetime.date(2016, 4, 1): 1716}\n",
      "('R237', 'R046', '01-00-03', 'GRD CNTRL-42 ST') {datetime.date(2016, 3, 31): 550, datetime.date(2016, 3, 26): 34, datetime.date(2016, 3, 27): 34, datetime.date(2016, 3, 28): 0, datetime.date(2016, 3, 29): 535, datetime.date(2016, 3, 30): 569, datetime.date(2016, 4, 1): 533}\n",
      "('N526', 'R142', '02-06-00', 'DELANCEY/ESSEX') {datetime.date(2016, 3, 31): 130, datetime.date(2016, 3, 26): 66, datetime.date(2016, 3, 27): 68, datetime.date(2016, 3, 28): 37, datetime.date(2016, 3, 29): 100, datetime.date(2016, 3, 30): 113, datetime.date(2016, 4, 1): 102}\n",
      "('N323', 'R018', '01-00-00', 'JKSN HT-ROOSVLT') {datetime.date(2016, 3, 31): 2859, datetime.date(2016, 3, 26): 1867, datetime.date(2016, 3, 27): 2090, datetime.date(2016, 3, 28): 1586, datetime.date(2016, 3, 29): 2666, datetime.date(2016, 3, 30): 2947, datetime.date(2016, 4, 1): 2990}\n",
      "('H023', 'R236', '00-00-02', 'DEKALB AV') {datetime.date(2016, 3, 31): 2380, datetime.date(2016, 3, 26): 1239, datetime.date(2016, 3, 27): 1163, datetime.date(2016, 3, 28): 1321, datetime.date(2016, 3, 29): 2396, datetime.date(2016, 3, 30): 2477, datetime.date(2016, 4, 1): 2523}\n",
      "('R421', 'R427', '00-03-00', 'MIDDLETOWN RD') {datetime.date(2016, 3, 31): 476, datetime.date(2016, 3, 26): 161, datetime.date(2016, 3, 27): 165, datetime.date(2016, 3, 28): 124, datetime.date(2016, 3, 29): 493, datetime.date(2016, 3, 30): 493, datetime.date(2016, 4, 1): 521}\n",
      "('C004', 'R089', '01-05-00', 'JAY ST-METROTEC') {datetime.date(2016, 3, 31): 0, datetime.date(2016, 3, 26): 1, datetime.date(2016, 3, 27): 1, datetime.date(2016, 3, 28): 0, datetime.date(2016, 3, 29): 0, datetime.date(2016, 3, 30): 0, datetime.date(2016, 4, 1): 0}\n",
      "('R637', 'R451', '00-06-00', 'WINTHROP ST') {datetime.date(2016, 3, 31): 668, datetime.date(2016, 3, 26): 190, datetime.date(2016, 3, 27): 207, datetime.date(2016, 3, 28): 173, datetime.date(2016, 3, 29): 613, datetime.date(2016, 3, 30): 665, datetime.date(2016, 4, 1): 620}\n",
      "('R523', 'R147', '00-00-05', '61 ST WOODSIDE') {datetime.date(2016, 3, 31): 2216, datetime.date(2016, 3, 26): 1310, datetime.date(2016, 3, 27): 1343, datetime.date(2016, 3, 28): 1043, datetime.date(2016, 3, 29): 1943, datetime.date(2016, 3, 30): 2145, datetime.date(2016, 4, 1): 2181}\n",
      "('R245A', 'R051', '01-00-00', '59 ST') {datetime.date(2016, 3, 31): 4361, datetime.date(2016, 3, 26): 2439, datetime.date(2016, 3, 27): 2572, datetime.date(2016, 3, 28): 1947, datetime.date(2016, 3, 29): 4173, datetime.date(2016, 3, 30): 4432, datetime.date(2016, 4, 1): 4458}\n",
      "('N012', 'R035', '01-06-03', '168 ST') {datetime.date(2016, 3, 31): 3097, datetime.date(2016, 3, 26): 1934, datetime.date(2016, 3, 27): 2134, datetime.date(2016, 3, 28): 1610, datetime.date(2016, 3, 29): 2872, datetime.date(2016, 3, 30): 3010, datetime.date(2016, 4, 1): 3031}\n",
      "('N528', 'R257', '01-00-00', 'EAST BROADWAY') {datetime.date(2016, 3, 31): 1885, datetime.date(2016, 3, 26): 1269, datetime.date(2016, 3, 27): 1374, datetime.date(2016, 3, 28): 1242, datetime.date(2016, 3, 29): 1797, datetime.date(2016, 3, 30): 1729, datetime.date(2016, 4, 1): 1817}\n",
      "('R252', 'R180', '00-00-01', '103 ST') {datetime.date(2016, 3, 31): 2370, datetime.date(2016, 3, 26): 1298, datetime.date(2016, 3, 27): 1318, datetime.date(2016, 3, 28): 988, datetime.date(2016, 3, 29): 2171, datetime.date(2016, 3, 30): 2436, datetime.date(2016, 4, 1): 2380}\n",
      "('R628', 'R064', '00-00-03', 'SARATOGA AV') {datetime.date(2016, 3, 31): 1671, datetime.date(2016, 3, 26): 1435, datetime.date(2016, 3, 27): 1535, datetime.date(2016, 3, 28): 1188, datetime.date(2016, 3, 29): 1723, datetime.date(2016, 3, 30): 1657, datetime.date(2016, 4, 1): 1694}\n",
      "('R160A', 'R164', '00-00-00', '66 ST-LINCOLN') {datetime.date(2016, 3, 31): 2783, datetime.date(2016, 3, 26): 1308, datetime.date(2016, 3, 27): 1816, datetime.date(2016, 3, 28): 1026, datetime.date(2016, 3, 29): 2399, datetime.date(2016, 3, 30): 2691, datetime.date(2016, 4, 1): 2621}\n",
      "('N602', 'R259', '00-05-01', 'ROOSEVELT ISLND') {datetime.date(2016, 3, 31): 0, datetime.date(2016, 3, 26): 0, datetime.date(2016, 3, 27): 0, datetime.date(2016, 3, 28): 0, datetime.date(2016, 3, 29): 0, datetime.date(2016, 3, 30): 0, datetime.date(2016, 4, 1): 0}\n",
      "('R727', 'R430', '00-00-02', 'PELHAM PKWY') {datetime.date(2016, 3, 31): 1326, datetime.date(2016, 3, 26): 396, datetime.date(2016, 3, 27): 408, datetime.date(2016, 3, 28): 261, datetime.date(2016, 3, 29): 1215, datetime.date(2016, 3, 30): 1377, datetime.date(2016, 4, 1): 1351}\n",
      "('A021', 'R032', '01-00-04', 'TIMES SQ-42 ST') {datetime.date(2016, 3, 31): 1025, datetime.date(2016, 3, 26): 138, datetime.date(2016, 3, 27): 159, datetime.date(2016, 3, 28): 72, datetime.date(2016, 3, 29): 952, datetime.date(2016, 3, 30): 1003, datetime.date(2016, 4, 1): 958}\n",
      "('B012', 'R196', '00-00-00', 'PROSPECT PARK') {datetime.date(2016, 3, 31): 1864, datetime.date(2016, 3, 26): 1168, datetime.date(2016, 3, 27): 1221, datetime.date(2016, 3, 28): 931, datetime.date(2016, 3, 29): 1638, datetime.date(2016, 3, 30): 1756, datetime.date(2016, 4, 1): 1845}\n",
      "('A084', 'R125', '01-00-01', 'BROAD ST') {datetime.date(2016, 3, 31): 569, datetime.date(2016, 3, 26): 197, datetime.date(2016, 3, 27): 205, datetime.date(2016, 3, 28): 146, datetime.date(2016, 3, 29): 536, datetime.date(2016, 3, 30): 548, datetime.date(2016, 4, 1): 544}\n",
      "('R204', 'R043', '02-03-03', 'WALL ST') {datetime.date(2016, 3, 31): 325, datetime.date(2016, 3, 26): 0, datetime.date(2016, 3, 27): 0, datetime.date(2016, 3, 28): 0, datetime.date(2016, 3, 29): 324, datetime.date(2016, 3, 30): 346, datetime.date(2016, 4, 1): 314}\n",
      "('N203', 'R195', '00-03-00', '161/YANKEE STAD') {datetime.date(2016, 3, 31): 0, datetime.date(2016, 3, 26): 0, datetime.date(2016, 3, 27): 273, datetime.date(2016, 3, 28): 0, datetime.date(2016, 3, 29): 0, datetime.date(2016, 3, 30): 0, datetime.date(2016, 4, 1): 0}\n",
      "('G015', 'R312', '01-06-01', 'W 8 ST-AQUARIUM') {datetime.date(2016, 3, 31): 301, datetime.date(2016, 3, 26): 134, datetime.date(2016, 3, 27): 139, datetime.date(2016, 3, 28): 123, datetime.date(2016, 3, 29): 225, datetime.date(2016, 3, 30): 291, datetime.date(2016, 4, 1): 341}\n",
      "('H001', 'R175', '00-00-02', '8 AV') {datetime.date(2016, 3, 31): 3098, datetime.date(2016, 3, 26): 2919, datetime.date(2016, 3, 27): 3017, datetime.date(2016, 3, 28): 2263, datetime.date(2016, 3, 29): 2673, datetime.date(2016, 3, 30): 2954, datetime.date(2016, 4, 1): 3285}\n",
      "('R515', 'R095', '00-00-03', 'ASTORIA DITMARS') {datetime.date(2016, 3, 31): 1860, datetime.date(2016, 3, 26): 770, datetime.date(2016, 3, 27): 827, datetime.date(2016, 3, 28): 490, datetime.date(2016, 3, 29): 1645, datetime.date(2016, 3, 30): 1898, datetime.date(2016, 4, 1): 1824}\n",
      "('N559', 'R425', '00-00-00', 'AVENUE U') {datetime.date(2016, 3, 31): 817, datetime.date(2016, 3, 26): 415, datetime.date(2016, 3, 27): 434, datetime.date(2016, 3, 28): 362, datetime.date(2016, 3, 29): 732, datetime.date(2016, 3, 30): 874, datetime.date(2016, 4, 1): 849}\n",
      "('N049', 'R084', '01-02-01', '59 ST COLUMBUS') {datetime.date(2016, 3, 31): 2881, datetime.date(2016, 3, 26): 1630, datetime.date(2016, 3, 27): 1822, datetime.date(2016, 3, 28): 1607, datetime.date(2016, 3, 29): 2211, datetime.date(2016, 3, 30): 2964, datetime.date(2016, 4, 1): 3297}\n",
      "('N010', 'R126', '00-05-01', '175 ST') {datetime.date(2016, 3, 31): 0, datetime.date(2016, 3, 26): 0, datetime.date(2016, 3, 27): 0, datetime.date(2016, 3, 28): 0, datetime.date(2016, 3, 29): 0, datetime.date(2016, 3, 30): 0, datetime.date(2016, 4, 1): 0}\n",
      "('N057', 'R188', '00-05-01', '50 ST') {datetime.date(2016, 3, 31): 0, datetime.date(2016, 3, 26): 0, datetime.date(2016, 3, 27): 0, datetime.date(2016, 3, 28): 0, datetime.date(2016, 3, 29): 0, datetime.date(2016, 3, 30): 0, datetime.date(2016, 4, 1): 0}\n",
      "('N315', 'R238', '00-00-01', 'STEINWAY ST') {datetime.date(2016, 3, 31): 2293, datetime.date(2016, 3, 26): 1549, datetime.date(2016, 3, 27): 1641, datetime.date(2016, 3, 28): 1289, datetime.date(2016, 3, 29): 2112, datetime.date(2016, 3, 30): 2265, datetime.date(2016, 4, 1): 2234}\n",
      "('N504', 'R021', '02-00-00', '42 ST-BRYANT PK') {datetime.date(2016, 3, 31): 1976, datetime.date(2016, 3, 26): 376, datetime.date(2016, 3, 27): 424, datetime.date(2016, 3, 28): 284, datetime.date(2016, 3, 29): 2030, datetime.date(2016, 3, 30): 2050, datetime.date(2016, 4, 1): 2091}\n",
      "('N547', 'R420', '01-06-01', 'DITMAS AV') {datetime.date(2016, 3, 31): 0, datetime.date(2016, 3, 26): 0, datetime.date(2016, 3, 27): 0, datetime.date(2016, 3, 28): 0, datetime.date(2016, 3, 29): 0, datetime.date(2016, 3, 30): 0, datetime.date(2016, 4, 1): 0}\n",
      "('R155', 'R116', '01-00-03', '50 ST') {datetime.date(2016, 3, 31): 1206, datetime.date(2016, 3, 26): 644, datetime.date(2016, 3, 27): 741, datetime.date(2016, 3, 28): 773, datetime.date(2016, 3, 29): 1066, datetime.date(2016, 3, 30): 1169, datetime.date(2016, 4, 1): 1127}\n",
      "('N051', 'R084', '02-00-01', '59 ST COLUMBUS') {datetime.date(2016, 3, 31): 7128, datetime.date(2016, 3, 26): 2794, datetime.date(2016, 3, 27): 3112, datetime.date(2016, 3, 28): 2512, datetime.date(2016, 3, 29): 5960, datetime.date(2016, 3, 30): 6520, datetime.date(2016, 4, 1): 6533}\n",
      "('N336', 'R158', '00-03-02', 'KEW GARDENS') {datetime.date(2016, 3, 31): 3638, datetime.date(2016, 3, 26): 1341, datetime.date(2016, 3, 27): 1247, datetime.date(2016, 3, 28): 955, datetime.date(2016, 3, 29): 3232, datetime.date(2016, 3, 30): 3493, datetime.date(2016, 4, 1): 3521}\n",
      "('N095', 'R014', '00-03-02', 'FULTON ST') {datetime.date(2016, 3, 31): 3835, datetime.date(2016, 3, 26): 836, datetime.date(2016, 3, 27): 889, datetime.date(2016, 3, 28): 1089, datetime.date(2016, 3, 29): 3386, datetime.date(2016, 3, 30): 3712, datetime.date(2016, 4, 1): 3881}\n",
      "('A030', 'R083', '01-00-00', '23 ST') {datetime.date(2016, 3, 31): 2174, datetime.date(2016, 3, 26): 895, datetime.date(2016, 3, 27): 974, datetime.date(2016, 3, 28): 650, datetime.date(2016, 3, 29): 1957, datetime.date(2016, 3, 30): 2039, datetime.date(2016, 4, 1): 2174}\n",
      "('R138', 'R293', '00-00-04', '34 ST-PENN STA') {datetime.date(2016, 3, 31): 4796, datetime.date(2016, 3, 26): 2061, datetime.date(2016, 3, 27): 2334, datetime.date(2016, 3, 28): 2553, datetime.date(2016, 3, 29): 4898, datetime.date(2016, 3, 30): 4815, datetime.date(2016, 4, 1): 4712}\n",
      "('N400A', 'R359', '02-06-05', 'COURT SQ') {datetime.date(2016, 3, 31): 0, datetime.date(2016, 3, 26): 1, datetime.date(2016, 3, 27): 1, datetime.date(2016, 3, 28): 0, datetime.date(2016, 3, 29): 0, datetime.date(2016, 3, 30): 0, datetime.date(2016, 4, 1): 0}\n",
      "('N339A', 'R114', '00-03-03', 'PARSONS BLVD') {datetime.date(2016, 3, 31): 1015, datetime.date(2016, 3, 26): 503, datetime.date(2016, 3, 27): 530, datetime.date(2016, 3, 28): 432, datetime.date(2016, 3, 29): 951, datetime.date(2016, 3, 30): 984, datetime.date(2016, 4, 1): 998}\n",
      "('R203A', 'R043', '01-06-01', 'WALL ST') {datetime.date(2016, 3, 31): 371, datetime.date(2016, 3, 26): 0, datetime.date(2016, 3, 27): 0, datetime.date(2016, 3, 28): 0, datetime.date(2016, 3, 29): 289, datetime.date(2016, 3, 30): 347, datetime.date(2016, 4, 1): 298}\n",
      "('R520', 'R223', '01-06-00', '46 ST BLISS ST') {datetime.date(2016, 3, 31): 2563, datetime.date(2016, 3, 26): 1379, datetime.date(2016, 3, 27): 1452, datetime.date(2016, 3, 28): 1004, datetime.date(2016, 3, 29): 2508, datetime.date(2016, 3, 30): 2588, datetime.date(2016, 4, 1): 2322}\n",
      "('R231A', 'R176', '01-06-01', '33 ST') {datetime.date(2016, 3, 31): 567, datetime.date(2016, 3, 26): 137, datetime.date(2016, 3, 27): 150, datetime.date(2016, 3, 28): 135, datetime.date(2016, 3, 29): 565, datetime.date(2016, 3, 30): 576, datetime.date(2016, 4, 1): 533}\n",
      "('N545', 'R204', '01-05-01', 'CHURCH AV') {datetime.date(2016, 3, 31): 0, datetime.date(2016, 3, 26): 0, datetime.date(2016, 3, 27): 0, datetime.date(2016, 3, 28): 0, datetime.date(2016, 3, 29): 0, datetime.date(2016, 3, 30): 0, datetime.date(2016, 4, 1): 0}\n",
      "('R174', 'R034', '00-00-00', '125 ST') {datetime.date(2016, 3, 31): 1846, datetime.date(2016, 3, 26): 1237, datetime.date(2016, 3, 27): 1379, datetime.date(2016, 3, 28): 1095, datetime.date(2016, 3, 29): 1739, datetime.date(2016, 3, 30): 1592, datetime.date(2016, 4, 1): 1985}\n",
      "('R142', 'R293', '01-06-01', '34 ST-PENN STA') {datetime.date(2016, 3, 31): 866, datetime.date(2016, 3, 26): 593, datetime.date(2016, 3, 27): 706, datetime.date(2016, 3, 28): 531, datetime.date(2016, 3, 29): 648, datetime.date(2016, 3, 30): 870, datetime.date(2016, 4, 1): 926}\n",
      "('N057', 'R188', '00-03-00', '50 ST') {datetime.date(2016, 3, 31): 557, datetime.date(2016, 3, 26): 315, datetime.date(2016, 3, 27): 369, datetime.date(2016, 3, 28): 268, datetime.date(2016, 3, 29): 522, datetime.date(2016, 3, 30): 566, datetime.date(2016, 4, 1): 514}\n",
      "('B021', 'R228', '00-00-02', 'AVENUE J') {datetime.date(2016, 3, 31): 891, datetime.date(2016, 3, 26): 380, datetime.date(2016, 3, 27): 422, datetime.date(2016, 3, 28): 445, datetime.date(2016, 3, 29): 812, datetime.date(2016, 3, 30): 809, datetime.date(2016, 4, 1): 868}\n",
      "('N078', 'R175', '01-03-00', '14 ST') {datetime.date(2016, 3, 31): 1974, datetime.date(2016, 3, 26): 760, datetime.date(2016, 3, 27): 852, datetime.date(2016, 3, 28): 640, datetime.date(2016, 3, 29): 1833, datetime.date(2016, 3, 30): 2019, datetime.date(2016, 4, 1): 2020}\n",
      "('K025', 'R404', '00-03-00', 'FRESH POND RD') {datetime.date(2016, 3, 31): 1407, datetime.date(2016, 3, 26): 576, datetime.date(2016, 3, 27): 616, datetime.date(2016, 3, 28): 442, datetime.date(2016, 3, 29): 1180, datetime.date(2016, 3, 30): 1401, datetime.date(2016, 4, 1): 1486}\n",
      "('N195', 'R358', '00-05-00', 'BEACH 25 ST') {datetime.date(2016, 3, 31): 0, datetime.date(2016, 3, 26): 0, datetime.date(2016, 3, 27): 0, datetime.date(2016, 3, 28): 0, datetime.date(2016, 3, 29): 0, datetime.date(2016, 3, 30): 0, datetime.date(2016, 4, 1): 0}\n",
      "('N095A', 'R014', '01-03-01', 'FULTON ST') {datetime.date(2016, 3, 31): 50, datetime.date(2016, 3, 26): 23, datetime.date(2016, 3, 27): 27, datetime.date(2016, 3, 28): 21, datetime.date(2016, 3, 29): 31, datetime.date(2016, 3, 30): 49, datetime.date(2016, 4, 1): 53}\n",
      "('N536', 'R270', '00-00-01', 'SMITH-9 ST') {datetime.date(2016, 3, 31): 858, datetime.date(2016, 3, 26): 553, datetime.date(2016, 3, 27): 593, datetime.date(2016, 3, 28): 389, datetime.date(2016, 3, 29): 824, datetime.date(2016, 3, 30): 898, datetime.date(2016, 4, 1): 898}\n",
      "('N208', 'R443', '01-00-00', '170 ST') {datetime.date(2016, 3, 31): 926, datetime.date(2016, 3, 26): 607, datetime.date(2016, 3, 27): 641, datetime.date(2016, 3, 28): 574, datetime.date(2016, 3, 29): 1016, datetime.date(2016, 3, 30): 902, datetime.date(2016, 4, 1): 987}\n",
      "('N141', 'R356', '00-00-00', 'OZONE PK LEFFRT') {datetime.date(2016, 3, 31): 2868, datetime.date(2016, 3, 26): 1392, datetime.date(2016, 3, 27): 1471, datetime.date(2016, 3, 28): 1075, datetime.date(2016, 3, 29): 2448, datetime.date(2016, 3, 30): 2753, datetime.date(2016, 4, 1): 2827}\n",
      "('C009', 'R057', '03-03-02', 'ATL AV-BARCLAY') {datetime.date(2016, 3, 31): 1739, datetime.date(2016, 3, 26): 969, datetime.date(2016, 3, 27): 1160, datetime.date(2016, 3, 28): 975, datetime.date(2016, 3, 29): 1607, datetime.date(2016, 3, 30): 1689, datetime.date(2016, 4, 1): 1464}\n",
      "('R532H', 'R328', '02-00-04', 'METS-WILLETS PT') {datetime.date(2016, 3, 31): 0, datetime.date(2016, 3, 26): 0, datetime.date(2016, 3, 27): 0, datetime.date(2016, 3, 28): 0, datetime.date(2016, 3, 29): 0, datetime.date(2016, 3, 30): 0, datetime.date(2016, 4, 1): 0}\n",
      "('PTH13', 'R541', '00-00-02', 'THIRTY ST') {datetime.date(2016, 3, 31): 85, datetime.date(2016, 3, 26): 0, datetime.date(2016, 3, 27): 0, datetime.date(2016, 3, 28): 0, datetime.date(2016, 3, 29): 92, datetime.date(2016, 3, 30): 83, datetime.date(2016, 4, 1): 85}\n",
      "('N324', 'R018', '00-03-01', 'JKSN HT-ROOSVLT') {datetime.date(2016, 3, 31): 3231, datetime.date(2016, 3, 26): 2361, datetime.date(2016, 3, 27): 2482, datetime.date(2016, 3, 28): 2230, datetime.date(2016, 3, 29): 3049, datetime.date(2016, 3, 30): 3268, datetime.date(2016, 4, 1): 3218}\n",
      "('R158', 'R084', '00-05-02', '59 ST COLUMBUS') {datetime.date(2016, 3, 31): 728, datetime.date(2016, 3, 26): 160, datetime.date(2016, 3, 27): 195, datetime.date(2016, 3, 28): 102, datetime.date(2016, 3, 29): 577, datetime.date(2016, 3, 30): 740, datetime.date(2016, 4, 1): 677}\n",
      "('PTH02', 'R544', '00-00-05', 'HARRISON') {datetime.date(2016, 3, 31): 985, datetime.date(2016, 3, 26): 766, datetime.date(2016, 3, 27): 700, datetime.date(2016, 3, 28): 453, datetime.date(2016, 3, 29): 874, datetime.date(2016, 3, 30): 987, datetime.date(2016, 4, 1): 816}\n",
      "('S101', 'R070', '00-03-02', 'ST. GEORGE') {datetime.date(2016, 3, 31): 767, datetime.date(2016, 3, 26): 164, datetime.date(2016, 3, 27): 167, datetime.date(2016, 3, 28): 128, datetime.date(2016, 3, 29): 696, datetime.date(2016, 3, 30): 626, datetime.date(2016, 4, 1): 791}\n",
      "('R413', 'R325', '00-00-01', 'WHITLOCK AV') {datetime.date(2016, 3, 31): 320, datetime.date(2016, 3, 26): 185, datetime.date(2016, 3, 27): 199, datetime.date(2016, 3, 28): 164, datetime.date(2016, 3, 29): 310, datetime.date(2016, 3, 30): 331, datetime.date(2016, 4, 1): 347}\n",
      "('R293', 'R133', '00-00-00', 'MOSHOLU PKWY') {datetime.date(2016, 3, 31): 0, datetime.date(2016, 3, 26): 821, datetime.date(2016, 3, 27): 856, datetime.date(2016, 3, 28): 645, datetime.date(2016, 3, 29): 1046, datetime.date(2016, 3, 30): 0, datetime.date(2016, 4, 1): 0}\n",
      "('R258', 'R132', '00-03-02', '125 ST') {datetime.date(2016, 3, 31): 1472, datetime.date(2016, 3, 26): 694, datetime.date(2016, 3, 27): 732, datetime.date(2016, 3, 28): 488, datetime.date(2016, 3, 29): 1368, datetime.date(2016, 3, 30): 1480, datetime.date(2016, 4, 1): 1523}\n",
      "('N122', 'R439', '00-00-02', 'ROCKAWAY AV') {datetime.date(2016, 3, 31): 1479, datetime.date(2016, 3, 26): 721, datetime.date(2016, 3, 27): 757, datetime.date(2016, 3, 28): 567, datetime.date(2016, 3, 29): 1353, datetime.date(2016, 3, 30): 1419, datetime.date(2016, 4, 1): 1446}\n",
      "('R287', 'R244', '00-00-02', 'BURNSIDE AV') {datetime.date(2016, 3, 31): 2616, datetime.date(2016, 3, 26): 1149, datetime.date(2016, 3, 27): 1261, datetime.date(2016, 3, 28): 926, datetime.date(2016, 3, 29): 2506, datetime.date(2016, 3, 30): 2449, datetime.date(2016, 4, 1): 2777}\n",
      "('D002', 'R390', '00-03-02', '8 AV') {datetime.date(2016, 3, 31): 2608, datetime.date(2016, 3, 26): 1784, datetime.date(2016, 3, 27): 1862, datetime.date(2016, 3, 28): 1771, datetime.date(2016, 3, 29): 2766, datetime.date(2016, 3, 30): 2927, datetime.date(2016, 4, 1): 2643}\n",
      "('N112A', 'R284', '01-00-01', 'CLINTON-WASH AV') {datetime.date(2016, 3, 31): 239, datetime.date(2016, 3, 26): 126, datetime.date(2016, 3, 27): 132, datetime.date(2016, 3, 28): 117, datetime.date(2016, 3, 29): 227, datetime.date(2016, 3, 30): 228, datetime.date(2016, 4, 1): 251}\n",
      "('R523', 'R147', '00-00-06', '61 ST WOODSIDE') {datetime.date(2016, 3, 31): 3033, datetime.date(2016, 3, 26): 1841, datetime.date(2016, 3, 27): 1924, datetime.date(2016, 3, 28): 1502, datetime.date(2016, 3, 29): 2730, datetime.date(2016, 3, 30): 2903, datetime.date(2016, 4, 1): 2885}\n",
      "('R533', 'R055', '00-00-03', 'FLUSHING-MAIN') {datetime.date(2016, 3, 31): 830, datetime.date(2016, 3, 26): 567, datetime.date(2016, 3, 27): 637, datetime.date(2016, 3, 28): 472, datetime.date(2016, 3, 29): 813, datetime.date(2016, 3, 30): 841, datetime.date(2016, 4, 1): 800}\n",
      "('R111', 'R027', '00-03-01', 'WALL ST') {datetime.date(2016, 3, 31): 2239, datetime.date(2016, 3, 26): 656, datetime.date(2016, 3, 27): 712, datetime.date(2016, 3, 28): 474, datetime.date(2016, 3, 29): 1679, datetime.date(2016, 3, 30): 2149, datetime.date(2016, 4, 1): 2228}\n"
     ]
    },
    {
     "ename": "IndexError",
     "evalue": "list index out of range",
     "output_type": "error",
     "traceback": [
      "\u001b[0;31m---------------------------------------------------------------------------\u001b[0m",
      "\u001b[0;31mIndexError\u001b[0m                                Traceback (most recent call last)",
      "\u001b[0;32m<ipython-input-96-2fca2db00be7>\u001b[0m in \u001b[0;36m<module>\u001b[0;34m()\u001b[0m\n\u001b[1;32m     11\u001b[0m \u001b[0;31m#    print data\u001b[0m\u001b[0;34m\u001b[0m\u001b[0;34m\u001b[0m\u001b[0m\n\u001b[1;32m     12\u001b[0m     \u001b[0mday_dict\u001b[0m \u001b[0;34m=\u001b[0m \u001b[0;34m{\u001b[0m\u001b[0;34m}\u001b[0m\u001b[0;34m\u001b[0m\u001b[0m\n\u001b[0;32m---> 13\u001b[0;31m     \u001b[0mdiff\u001b[0m \u001b[0;34m=\u001b[0m  \u001b[0mint\u001b[0m\u001b[0;34m(\u001b[0m\u001b[0mdata\u001b[0m\u001b[0;34m[\u001b[0m\u001b[0;36m5\u001b[0m\u001b[0;34m]\u001b[0m\u001b[0;34m[\u001b[0m\u001b[0;36m1\u001b[0m\u001b[0;34m]\u001b[0m\u001b[0;34m)\u001b[0m \u001b[0;34m-\u001b[0m \u001b[0mstart\u001b[0m\u001b[0;34m\u001b[0m\u001b[0m\n\u001b[0m\u001b[1;32m     14\u001b[0m \u001b[0;31m#    print \"first\", diff, data[0][0].date()\u001b[0m\u001b[0;34m\u001b[0m\u001b[0;34m\u001b[0m\u001b[0m\n\u001b[1;32m     15\u001b[0m     \u001b[0mday_dict\u001b[0m\u001b[0;34m[\u001b[0m\u001b[0mdata\u001b[0m\u001b[0;34m[\u001b[0m\u001b[0;36m0\u001b[0m\u001b[0;34m]\u001b[0m\u001b[0;34m[\u001b[0m\u001b[0;36m0\u001b[0m\u001b[0;34m]\u001b[0m\u001b[0;34m.\u001b[0m\u001b[0mdate\u001b[0m\u001b[0;34m(\u001b[0m\u001b[0;34m)\u001b[0m\u001b[0;34m]\u001b[0m \u001b[0;34m=\u001b[0m \u001b[0mint\u001b[0m\u001b[0;34m(\u001b[0m\u001b[0mdata\u001b[0m\u001b[0;34m[\u001b[0m\u001b[0;36m5\u001b[0m\u001b[0;34m]\u001b[0m\u001b[0;34m[\u001b[0m\u001b[0;36m1\u001b[0m\u001b[0;34m]\u001b[0m\u001b[0;34m)\u001b[0m\u001b[0;34m-\u001b[0m\u001b[0mstart\u001b[0m\u001b[0;34m\u001b[0m\u001b[0m\n",
      "\u001b[0;31mIndexError\u001b[0m: list index out of range"
     ]
    }
   ],
   "source": [
    "#Challenge 3:          # dict of days -> hist\n",
    "c = 0\n",
    "keys = mtad.keys()\n",
    "for key in keys:\n",
    "    data = mtad[key]\n",
    "#    data.sort()\n",
    "    oldday = 0              #data[0][0].date()\n",
    "    start = int(data[0][1])\n",
    "    \n",
    "#    print key,start\n",
    "#    print data        \n",
    "    day_dict = {}\n",
    "    diff =  int(data[5][1]) - start \n",
    "#    print \"first\", diff, data[0][0].date()\n",
    "    day_dict[data[0][0].date()] = int(data[5][1])-start   \n",
    "    \n",
    "    \n",
    "    for dt in data[1:]:\n",
    "        \n",
    "        \n",
    "        day = dt[0].date()\n",
    "        if oldday <> day:\n",
    "            diff = int(dt[1]) - start\n",
    "#            print \"NEW DAY  \", day, diff\n",
    "            oldday = day\n",
    "            if day in day_dict:\n",
    "                day_dict[day] = day_dict.get(day) + diff                 \n",
    "            else:\n",
    "                day_dict[day] = diff\n",
    "            start = int(dt[1])\n",
    "    c +=1\n",
    "    print key, day_dict\n",
    "#    if c>30:\n",
    "#        break\n",
    "                        \n",
    "                        "
   ]
  },
  {
   "cell_type": "code",
   "execution_count": 89,
   "metadata": {
    "collapsed": false
   },
   "outputs": [
    {
     "name": "stdout",
     "output_type": "stream",
     "text": [
      "[[datetime.datetime(2016, 3, 26, 0, 0), '0000000017'], [datetime.datetime(2016, 3, 26, 4, 0), '0000000017'], [datetime.datetime(2016, 3, 26, 8, 0), '0000000017'], [datetime.datetime(2016, 3, 26, 12, 0), '0000000017'], [datetime.datetime(2016, 3, 26, 16, 0), '0000000017'], [datetime.datetime(2016, 3, 26, 20, 0), '0000000017'], [datetime.datetime(2016, 3, 27, 0, 0), '0000000017'], [datetime.datetime(2016, 3, 27, 4, 0), '0000000017'], [datetime.datetime(2016, 3, 27, 8, 0), '0000000017'], [datetime.datetime(2016, 3, 27, 12, 0), '0000000017'], [datetime.datetime(2016, 3, 27, 16, 0), '0000000017'], [datetime.datetime(2016, 3, 27, 20, 0), '0000000017'], [datetime.datetime(2016, 3, 28, 0, 0), '0000000017'], [datetime.datetime(2016, 3, 28, 4, 0), '0000000017'], [datetime.datetime(2016, 3, 28, 8, 0), '0000000017'], [datetime.datetime(2016, 3, 28, 12, 0), '0000000017'], [datetime.datetime(2016, 3, 28, 16, 0), '0000000017'], [datetime.datetime(2016, 3, 28, 20, 0), '0000000017'], [datetime.datetime(2016, 3, 29, 0, 0), '0000000017'], [datetime.datetime(2016, 3, 29, 4, 0), '0000000017'], [datetime.datetime(2016, 3, 29, 8, 0), '0000000017'], [datetime.datetime(2016, 3, 29, 12, 0), '0000000017'], [datetime.datetime(2016, 3, 29, 16, 0), '0000000017'], [datetime.datetime(2016, 3, 29, 20, 0), '0000000017'], [datetime.datetime(2016, 3, 30, 0, 0), '0000000017'], [datetime.datetime(2016, 3, 30, 4, 0), '0000000017'], [datetime.datetime(2016, 3, 30, 8, 0), '0000000017'], [datetime.datetime(2016, 3, 30, 12, 0), '0000000017'], [datetime.datetime(2016, 3, 30, 16, 0), '0000000017'], [datetime.datetime(2016, 3, 30, 20, 0), '0000000017'], [datetime.datetime(2016, 3, 31, 0, 0), '0000000017'], [datetime.datetime(2016, 3, 31, 4, 0), '0000000017'], [datetime.datetime(2016, 3, 31, 8, 0), '0000000017'], [datetime.datetime(2016, 3, 31, 12, 0), '0000000017'], [datetime.datetime(2016, 3, 31, 16, 0), '0000000017'], [datetime.datetime(2016, 3, 31, 20, 0), '0000000017'], [datetime.datetime(2016, 4, 1, 0, 0), '0000000017'], [datetime.datetime(2016, 4, 1, 4, 0), '0000000017'], [datetime.datetime(2016, 4, 1, 8, 0), '0000000017'], [datetime.datetime(2016, 4, 1, 12, 0), '0000000017'], [datetime.datetime(2016, 4, 1, 16, 0), '0000000017'], [datetime.datetime(2016, 4, 1, 20, 0), '0000000017']]\n"
     ]
    }
   ],
   "source": []
  },
  {
   "cell_type": "code",
   "execution_count": null,
   "metadata": {
    "collapsed": false
   },
   "outputs": [],
   "source": []
  },
  {
   "cell_type": "code",
   "execution_count": null,
   "metadata": {
    "collapsed": false
   },
   "outputs": [],
   "source": []
  },
  {
   "cell_type": "code",
   "execution_count": null,
   "metadata": {
    "collapsed": true
   },
   "outputs": [],
   "source": []
  }
 ],
 "metadata": {
  "kernelspec": {
   "display_name": "Python 2",
   "language": "python",
   "name": "python2"
  },
  "language_info": {
   "codemirror_mode": {
    "name": "ipython",
    "version": 2
   },
   "file_extension": ".py",
   "mimetype": "text/x-python",
   "name": "python",
   "nbconvert_exporter": "python",
   "pygments_lexer": "ipython2",
   "version": "2.7.11"
  }
 },
 "nbformat": 4,
 "nbformat_minor": 0
}
